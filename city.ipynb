{
  "nbformat": 4,
  "nbformat_minor": 0,
  "metadata": {
    "colab": {
      "provenance": []
    },
    "kernelspec": {
      "name": "python3",
      "display_name": "Python 3"
    },
    "language_info": {
      "name": "python"
    }
  },
  "cells": [
    {
      "cell_type": "markdown",
      "source": [
        "# Bibliotecas\n",
        "\n",
        "Nesta seção vamos instalar todas as bibliotecas utilizadas.\n",
        "\n",
        "Além do OpenStreetMap, foram utilizadas: geopandas, pandas e networkx, mas estas já estão disponíveis no jupyter."
      ],
      "metadata": {
        "id": "iMz1bOU0PHBR"
      }
    },
    {
      "cell_type": "code",
      "source": [
        "!pip install osmnx"
      ],
      "metadata": {
        "id": "H3Zsrcf9Pf4Y",
        "colab": {
          "base_uri": "https://localhost:8080/"
        },
        "outputId": "57deb481-ea19-49ac-bb59-7b6f62a3341a"
      },
      "execution_count": 75,
      "outputs": [
        {
          "output_type": "stream",
          "name": "stdout",
          "text": [
            "Requirement already satisfied: osmnx in /usr/local/lib/python3.11/dist-packages (2.0.4)\n",
            "Requirement already satisfied: geopandas>=1.0 in /usr/local/lib/python3.11/dist-packages (from osmnx) (1.0.1)\n",
            "Requirement already satisfied: networkx>=2.5 in /usr/local/lib/python3.11/dist-packages (from osmnx) (3.5)\n",
            "Requirement already satisfied: numpy>=1.22 in /usr/local/lib/python3.11/dist-packages (from osmnx) (2.0.2)\n",
            "Requirement already satisfied: pandas>=1.4 in /usr/local/lib/python3.11/dist-packages (from osmnx) (2.2.2)\n",
            "Requirement already satisfied: requests>=2.27 in /usr/local/lib/python3.11/dist-packages (from osmnx) (2.32.3)\n",
            "Requirement already satisfied: shapely>=2.0 in /usr/local/lib/python3.11/dist-packages (from osmnx) (2.1.1)\n",
            "Requirement already satisfied: pyogrio>=0.7.2 in /usr/local/lib/python3.11/dist-packages (from geopandas>=1.0->osmnx) (0.11.0)\n",
            "Requirement already satisfied: packaging in /usr/local/lib/python3.11/dist-packages (from geopandas>=1.0->osmnx) (24.2)\n",
            "Requirement already satisfied: pyproj>=3.3.0 in /usr/local/lib/python3.11/dist-packages (from geopandas>=1.0->osmnx) (3.7.1)\n",
            "Requirement already satisfied: python-dateutil>=2.8.2 in /usr/local/lib/python3.11/dist-packages (from pandas>=1.4->osmnx) (2.9.0.post0)\n",
            "Requirement already satisfied: pytz>=2020.1 in /usr/local/lib/python3.11/dist-packages (from pandas>=1.4->osmnx) (2025.2)\n",
            "Requirement already satisfied: tzdata>=2022.7 in /usr/local/lib/python3.11/dist-packages (from pandas>=1.4->osmnx) (2025.2)\n",
            "Requirement already satisfied: charset-normalizer<4,>=2 in /usr/local/lib/python3.11/dist-packages (from requests>=2.27->osmnx) (3.4.2)\n",
            "Requirement already satisfied: idna<4,>=2.5 in /usr/local/lib/python3.11/dist-packages (from requests>=2.27->osmnx) (3.10)\n",
            "Requirement already satisfied: urllib3<3,>=1.21.1 in /usr/local/lib/python3.11/dist-packages (from requests>=2.27->osmnx) (2.4.0)\n",
            "Requirement already satisfied: certifi>=2017.4.17 in /usr/local/lib/python3.11/dist-packages (from requests>=2.27->osmnx) (2025.6.15)\n",
            "Requirement already satisfied: six>=1.5 in /usr/local/lib/python3.11/dist-packages (from python-dateutil>=2.8.2->pandas>=1.4->osmnx) (1.17.0)\n"
          ]
        }
      ]
    },
    {
      "cell_type": "markdown",
      "source": [
        "# Preparação\n",
        "\n",
        "Nesta seção, vamos preparar o grafo com os dados recolhidos [neste repositório](https://github.com/lemuel-manske/city-block/tree/main/data) e organizar vértices e arestas por bairro."
      ],
      "metadata": {
        "id": "sdpdkIeZQbD5"
      }
    },
    {
      "cell_type": "code",
      "source": [
        "BLUMENAU = 'Blumenau, Brazil'\n",
        "TIMBO = 'Timbó, Brazil'\n",
        "INDAIAL = 'Indaial, Brazil'"
      ],
      "metadata": {
        "id": "Dbf_th-k8rCO"
      },
      "execution_count": 76,
      "outputs": []
    },
    {
      "cell_type": "code",
      "source": [
        "from typing import Union\n",
        "\n",
        "import pandas as pd\n",
        "import geopandas as gpd\n",
        "\n",
        "import folium as fl\n",
        "\n",
        "import osmnx as ox\n",
        "import networkx as nx\n",
        "\n",
        "import matplotlib.pyplot as plt"
      ],
      "metadata": {
        "id": "y-Qfa1AtUa3_"
      },
      "execution_count": 77,
      "outputs": []
    },
    {
      "cell_type": "markdown",
      "source": [
        "1. Gerar o grafo composto de Blumenau, Timbó e Indaial (integrantes Lemuel e Lucas são de Blumenau e Rodrigo de Timbó, por isso optamos por manter o vértice em Timbó)"
      ],
      "metadata": {
        "id": "yzPMaFsOPgmR"
      }
    },
    {
      "cell_type": "code",
      "source": [
        "'''\n",
        "  Get's graph from a given `place`.\n",
        "'''\n",
        "def get_graph_from_place(place: str):\n",
        "  return ox.graph_from_place(\n",
        "    place,\n",
        "    network_type='drive'\n",
        "  )"
      ],
      "metadata": {
        "id": "wvBR3-5fPLJ6"
      },
      "execution_count": 78,
      "outputs": []
    },
    {
      "cell_type": "code",
      "source": [
        "def make_source_graph() -> nx.MultiDiGraph:\n",
        "  return nx.compose_all([\n",
        "    get_graph_from_place(BLUMENAU),\n",
        "    get_graph_from_place(TIMBO),\n",
        "    get_graph_from_place(INDAIAL)\n",
        "  ])\n",
        "\n",
        "G = make_source_graph()"
      ],
      "metadata": {
        "id": "ty0I7ld6c96v"
      },
      "execution_count": null,
      "outputs": []
    },
    {
      "cell_type": "markdown",
      "source": [
        "2. Importar os dados recolhidos para o grafo. Para este processo, foram coletadas longitude - `x` - e latitude - `y` - de cada ponto de interesse e no grafo vamos atribuir um \"label\" e \"nome\" para o vértice mais próximo ao ponto de interesse desejado. Todos os datasets estão disponíveis [neste repositório](http://github.com/lemuel-manske/city-block/data)\n",
        "  - https://osmnx.readthedocs.io/en/stable/user-reference.html#osmnx.distance.nearest_nodes"
      ],
      "metadata": {
        "id": "1n7LPG9ZC8vf"
      }
    },
    {
      "cell_type": "code",
      "source": [
        "ESTUDANTE_TAG = 'estudante'\n",
        "\n",
        "HOSPITAL_TAG = 'hospital'\n",
        "CRECHE_TAG = 'creche'\n",
        "ESCOLA_TAG = 'escola'\n",
        "PONTO_SAUDE_TAG = 'ponto_saude'\n",
        "PSICOSSOCIAL_TAG = 'psicossocial'\n",
        "\n",
        "ALL_SERVICE_TAGS = [\n",
        "  HOSPITAL_TAG,\n",
        "  CRECHE_TAG,\n",
        "  ESCOLA_TAG,\n",
        "  PONTO_SAUDE_TAG,\n",
        "  PSICOSSOCIAL_TAG\n",
        "]\n",
        "\n",
        "BAIRROS_BLUMENAU_TAG = 'bairros_blumenau'\n",
        "BAIRROS_TIMBO_TAG = 'bairros_timbo'"
      ],
      "metadata": {
        "id": "7gUfGx1TdRKH"
      },
      "execution_count": null,
      "outputs": []
    },
    {
      "cell_type": "code",
      "source": [
        "REPOSITORY = 'https://raw.githubusercontent.com/lemuel-manske/city-block/main/data'\n",
        "\n",
        "DATASETS = {\n",
        "    HOSPITAL_TAG: REPOSITORY + '/hospitais.csv',\n",
        "    ESTUDANTE_TAG: REPOSITORY + '/estudantes.csv',\n",
        "    CRECHE_TAG: REPOSITORY + '/creches.csv',\n",
        "    ESCOLA_TAG: REPOSITORY + '/escolas.csv',\n",
        "    PONTO_SAUDE_TAG: REPOSITORY + '/pontos_saude.csv',\n",
        "    PSICOSSOCIAL_TAG: REPOSITORY + '/centros_psicossociais.csv',\n",
        "    BAIRROS_BLUMENAU_TAG: REPOSITORY + '/bairros_blumenau.csv',\n",
        "    BAIRROS_TIMBO_TAG: REPOSITORY + '/bairros_timbo.csv'\n",
        "}\n",
        "\n",
        "DATAFRAMES = {\n",
        "    HOSPITAL_TAG: pd.read_csv(DATASETS[HOSPITAL_TAG]),\n",
        "    ESTUDANTE_TAG: pd.read_csv(DATASETS[ESTUDANTE_TAG]),\n",
        "    CRECHE_TAG: pd.read_csv(DATASETS[CRECHE_TAG]),\n",
        "    ESCOLA_TAG: pd.read_csv(DATASETS[ESCOLA_TAG]),\n",
        "    PONTO_SAUDE_TAG: pd.read_csv(DATASETS[PONTO_SAUDE_TAG]),\n",
        "    PSICOSSOCIAL_TAG: pd.read_csv(DATASETS[PSICOSSOCIAL_TAG]),\n",
        "    BAIRROS_BLUMENAU_TAG: pd.read_csv(DATASETS[BAIRROS_BLUMENAU_TAG]),\n",
        "    BAIRROS_TIMBO_TAG: pd.read_csv(DATASETS[BAIRROS_TIMBO_TAG])\n",
        "}"
      ],
      "metadata": {
        "id": "_6DBSgd6dSWq"
      },
      "execution_count": null,
      "outputs": []
    },
    {
      "cell_type": "code",
      "source": [
        "def load_all_data_sets(graph: nx.MultiDiGraph = G):\n",
        "\n",
        "  def desserialize(value: str) -> Union[str, bool]:\n",
        "    if value == 'yes':\n",
        "      return True\n",
        "\n",
        "    if value == 'no':\n",
        "      return False\n",
        "\n",
        "    return value\n",
        "\n",
        "  def label_points_of_interest(dataframe: pd.DataFrame, label: str, tags: list[str]):\n",
        "    for idx, row in dataframe.iterrows():\n",
        "      nearest_node_from_interest_point = ox.distance.nearest_nodes(graph, X=row['x'], Y=row['y'])\n",
        "\n",
        "      graph.nodes[nearest_node_from_interest_point]['label'] = label\n",
        "\n",
        "      for tag in tags:\n",
        "        graph.nodes[nearest_node_from_interest_point][tag] = desserialize(row[tag])\n",
        "\n",
        "  def load_data_set(label: str, tags: list[str]):\n",
        "    label_points_of_interest(DATAFRAMES[label], label, tags)\n",
        "\n",
        "  load_data_set(ESTUDANTE_TAG,    ['ref', 'student_name'])\n",
        "  load_data_set(HOSPITAL_TAG,     ['name', 'is_public'])\n",
        "  load_data_set(CRECHE_TAG,       ['name', 'is_public'])\n",
        "  load_data_set(ESCOLA_TAG,       ['name', 'is_public'])\n",
        "  load_data_set(PONTO_SAUDE_TAG,  ['name', 'is_public'])\n",
        "  load_data_set(PSICOSSOCIAL_TAG, ['name', 'is_public'])"
      ],
      "metadata": {
        "id": "FlaH4Ar3C7CJ"
      },
      "execution_count": null,
      "outputs": []
    },
    {
      "cell_type": "code",
      "source": [
        "load_all_data_sets()"
      ],
      "metadata": {
        "id": "kqB-Et0QeREL"
      },
      "execution_count": null,
      "outputs": []
    },
    {
      "cell_type": "markdown",
      "source": [
        "3. Afim de facilitar a análise, vamos separar todas os vértices e arestas por bairro. Foi necessário remover os bairros que não são reconhecidos na divisão administrativa feita pela prefeitura [neste link](https://www.blumenau.sc.gov.br/secretarias/secretaria-de-desenvolvimento-urbano/pagina/historia-sobre-municipio/divisa-administrativa-bairros) mas que o OSM reconhece.\n",
        "\n",
        "  - https://osmnx.readthedocs.io/en/stable/user-reference.html#osmnx.features.features_from_place\n",
        "  - https://wiki.openstreetmap.org/wiki/Key:admin_level"
      ],
      "metadata": {
        "id": "yAAErWvOhASP"
      }
    },
    {
      "cell_type": "markdown",
      "source": [
        "Bairros por nome e população (fonte: Censo 2022)"
      ],
      "metadata": {
        "id": "JO_1hsN94l9r"
      }
    },
    {
      "cell_type": "code",
      "source": [
        "def get_neighborhoods(place: str, places_to_filter: list[str]):\n",
        "  return ox.features.features_from_place(place, {'admin_level': '10'}) \\\n",
        "    .query(f'name in {list(places_to_filter)}')\n",
        "\n",
        "neighborhoods = pd \\\n",
        "  .concat([\n",
        "    get_neighborhoods(BLUMENAU, DATAFRAMES[BAIRROS_BLUMENAU_TAG]['name']),\n",
        "    get_neighborhoods(TIMBO, DATAFRAMES[BAIRROS_TIMBO_TAG]['name'])\n",
        "  ]) \\\n",
        "    .merge(DATAFRAMES[BAIRROS_BLUMENAU_TAG][['name', 'hab']], on='name', how='left')"
      ],
      "metadata": {
        "id": "9OdibwjIenmb"
      },
      "execution_count": null,
      "outputs": []
    },
    {
      "cell_type": "markdown",
      "source": [
        "4. Com o geopandas, podemos fazer um [*spatial join*](https://geopandas.org/en/stable/docs/reference/api/geopandas.GeoDataFrame.sjoin.html#geopandas.GeoDataFrame.sjoin) dos vértices - `G_nodes` - do grafo original que sobrepoem - `predicate='intersects'` - qualquer polígono - `neighborhoods[['geometry']]`. Por fim, renomeamos a coluna de `name_right` para `name` para manter consistência. A saída são todos os vértices de `G`, porém agora estão identificados por bairro.\n",
        "\n",
        " - https://geopandas.org/en/stable/docs/reference/api/geopandas.GeoDataFrame.html\n"
      ],
      "metadata": {
        "id": "SndC3aX9cLaK"
      }
    },
    {
      "cell_type": "code",
      "source": [
        "def nodes_with_neighborhood(graph: nx.MultiDiGraph = G):\n",
        "  nodes, _ = ox.graph_to_gdfs(graph)\n",
        "\n",
        "  return gpd \\\n",
        "    .sjoin(nodes, neighborhoods[['name', 'geometry']], how='left', predicate='intersects') \\\n",
        "    .rename(columns={'name_right': 'name'})['name']"
      ],
      "metadata": {
        "id": "q-3HqYLK9J2Q"
      },
      "execution_count": null,
      "outputs": []
    },
    {
      "cell_type": "code",
      "source": [
        "nx.set_node_attributes(G, nodes_with_neighborhood().to_dict(), 'neighborhood_name')"
      ],
      "metadata": {
        "id": "eUlpJNdKeCsu"
      },
      "execution_count": null,
      "outputs": []
    },
    {
      "cell_type": "code",
      "source": [
        "def get_labeled_nodes(label: str, graph: nx.MultiDiGraph = G):\n",
        "  nodes, _ = ox.graph_to_gdfs(graph)\n",
        "\n",
        "  return nodes[nodes['label'] == label]"
      ],
      "metadata": {
        "id": "ihG2YFklmzwC"
      },
      "execution_count": null,
      "outputs": []
    },
    {
      "cell_type": "code",
      "source": [
        "def get_student_node_id(student_name: str):\n",
        "  students = get_labeled_nodes(ESTUDANTE_TAG)\n",
        "\n",
        "  student_node = students[students['student_name'] == student_name]\n",
        "\n",
        "  return student_node.index[0]"
      ],
      "metadata": {
        "id": "-yE-x75zuY5Q"
      },
      "execution_count": null,
      "outputs": []
    },
    {
      "cell_type": "code",
      "source": [
        "def closest_service_from_student(student_name: str, target_service: str, graph: nx.MultiDiGraph = G) -> list[int]:\n",
        "  start = get_student_node_id(student_name)\n",
        "\n",
        "  target_nodes = get_labeled_nodes(target_service)\n",
        "\n",
        "  curr_path_dist = None\n",
        "  curr_shortest_path = None\n",
        "\n",
        "  for _, hospital in target_nodes.iterrows():\n",
        "    end = hospital.name\n",
        "\n",
        "    new_path = nx.dijkstra_path(graph, start, end, weight='length')\n",
        "\n",
        "    new_path_dist = nx.dijkstra_path_length(G, start, end)\n",
        "\n",
        "    if curr_path_dist is None:\n",
        "      curr_path_dist = new_path_dist\n",
        "      curr_shortest_path = new_path\n",
        "\n",
        "    elif new_path_dist < curr_path_dist:\n",
        "      curr_path_dist = new_path_dist\n",
        "      curr_shortest_path = new_path\n",
        "\n",
        "  return curr_shortest_path"
      ],
      "metadata": {
        "id": "rc8TDYmVxd_U"
      },
      "execution_count": null,
      "outputs": []
    },
    {
      "cell_type": "code",
      "source": [
        "def center(nodes: gpd.GeoDataFrame):\n",
        "  return nodes.geometry.union_all().centroid"
      ],
      "metadata": {
        "id": "X0Ya9Is8fYgw"
      },
      "execution_count": null,
      "outputs": []
    },
    {
      "cell_type": "code",
      "source": [
        "def get_node_location(node) -> tuple[float, float]:\n",
        "  return (node['y'], node['x'])"
      ],
      "metadata": {
        "id": "kql6sXDt9Wo6"
      },
      "execution_count": null,
      "outputs": []
    },
    {
      "cell_type": "code",
      "source": [
        "G_nodes, G_edges = ox.graph_to_gdfs(G)\n",
        "\n",
        "G_center = center(G_nodes)"
      ],
      "metadata": {
        "id": "uZVbl9-ja_pv"
      },
      "execution_count": null,
      "outputs": []
    },
    {
      "cell_type": "markdown",
      "source": [
        "# Análise\n",
        "\n",
        "Nesta seção vamos gerar informações a partir dos dados coletados anteriormente."
      ],
      "metadata": {
        "id": "R6wd2txiVnWT"
      }
    },
    {
      "cell_type": "code",
      "source": [
        "'''\n",
        "  Makes a folium map labelling out all points of interest.\n",
        "'''\n",
        "def make_map(graph: nx.MultiDiGraph = G):\n",
        "\n",
        "  def line_off_neighborhoods(m):\n",
        "    fields = ['name']\n",
        "\n",
        "    fl.GeoJson(\n",
        "      neighborhoods.to_json(),\n",
        "      name='Bairros',\n",
        "      tooltip=fl.GeoJsonTooltip(labels=False, fields=fields, max_width=100)\n",
        "    ).add_to(m)\n",
        "\n",
        "\n",
        "  def mark_out_students(m):\n",
        "    fields = ['student_name', 'name', 'neighborhood_name']\n",
        "\n",
        "    marker = fl.Marker(\n",
        "      icon=fl.Icon(color='blue', icon='home')\n",
        "    )\n",
        "\n",
        "    fl.GeoJson(\n",
        "      get_labeled_nodes(ESTUDANTE_TAG, graph),\n",
        "      name='Estudantes',\n",
        "      marker=marker,\n",
        "      tooltip=fl.GeoJsonTooltip(fields=fields, max_width=100)\n",
        "    ).add_to(m)\n",
        "\n",
        "\n",
        "  def mark_out_hospitals(m):\n",
        "    fields = ['name', 'neighborhood_name']\n",
        "\n",
        "    marker = fl.Marker(\n",
        "      icon=fl.Icon(color='red', icon='h-square', prefix='fa')\n",
        "    )\n",
        "\n",
        "    hospitals = get_labeled_nodes(HOSPITAL_TAG, graph)\n",
        "\n",
        "    if hospitals.empty:\n",
        "      return\n",
        "\n",
        "    fl.GeoJson(\n",
        "      hospitals,\n",
        "      name='Hospitais',\n",
        "      marker=marker,\n",
        "      tooltip=fl.GeoJsonTooltip(fields=fields, max_width=100)\n",
        "    ).add_to(m)\n",
        "\n",
        "\n",
        "  def mark_out_childcare(m):\n",
        "    fields = ['name', 'neighborhood_name']\n",
        "\n",
        "    marker = fl.Marker(\n",
        "      icon=fl.Icon(color='green', icon='child', prefix='fa')\n",
        "    )\n",
        "\n",
        "    fl.GeoJson(\n",
        "      get_labeled_nodes(CRECHE_TAG, graph),\n",
        "      name='Creches',\n",
        "      marker=marker,\n",
        "      tooltip=fl.GeoJsonTooltip(fields=fields, max_width=100)\n",
        "\n",
        "    ).add_to(m)\n",
        "\n",
        "\n",
        "  def mark_out_schools(m):\n",
        "    fields = ['name', 'neighborhood_name']\n",
        "\n",
        "    marker = fl.Marker(\n",
        "      icon=fl.Icon(color='orange', icon='graduation-cap', prefix='fa')\n",
        "    )\n",
        "\n",
        "    fl.GeoJson(\n",
        "      get_labeled_nodes(ESCOLA_TAG, graph),\n",
        "      name='Escolas',\n",
        "      marker=marker,\n",
        "      tooltip=fl.GeoJsonTooltip(fields=fields, max_width=100)\n",
        "    ).add_to(m)\n",
        "\n",
        "\n",
        "  def mark_out_psychosocial_care(m):\n",
        "    fields = ['name', 'neighborhood_name']\n",
        "\n",
        "    marker = fl.Marker(\n",
        "      icon=fl.Icon(color='purple', icon='user-md', prefix='fa')\n",
        "    )\n",
        "\n",
        "    fl.GeoJson(\n",
        "      get_labeled_nodes(PSICOSSOCIAL_TAG, graph),\n",
        "      name='Centro de Psicossocial',\n",
        "      marker=marker,\n",
        "      tooltip=fl.GeoJsonTooltip(fields=fields, max_width=100)\n",
        "    ).add_to(m)\n",
        "\n",
        "\n",
        "  def mark_out_points_of_care(m):\n",
        "    fields = ['name', 'neighborhood_name']\n",
        "\n",
        "    marker = fl.Marker(\n",
        "      icon=fl.Icon(color='gray', icon='medkit', prefix='fa')\n",
        "    )\n",
        "\n",
        "    fl.GeoJson(\n",
        "      get_labeled_nodes(PONTO_SAUDE_TAG, graph),\n",
        "      name='Pontos de Saúde',\n",
        "      marker=marker,\n",
        "      tooltip=fl.GeoJsonTooltip(fields=fields, max_width=100)\n",
        "    ).add_to(m)\n",
        "\n",
        "  nodes, edges = ox.graph_to_gdfs(graph)\n",
        "\n",
        "  c = center(nodes)\n",
        "\n",
        "  map = fl.Map(location=[c.y, c.x], zoom_start=14)\n",
        "\n",
        "  line_off_neighborhoods(map)\n",
        "\n",
        "  mark_out_students(map)\n",
        "  mark_out_hospitals(map)\n",
        "  mark_out_childcare(map)\n",
        "  mark_out_schools(map)\n",
        "  mark_out_psychosocial_care(map)\n",
        "  mark_out_points_of_care(map)\n",
        "\n",
        "  fl.LayerControl() \\\n",
        "    .add_to(map)\n",
        "\n",
        "  return map"
      ],
      "metadata": {
        "id": "uKmhKwhz6CkL"
      },
      "execution_count": null,
      "outputs": []
    },
    {
      "cell_type": "code",
      "source": [
        "m = make_map(G)\n",
        "\n",
        "m"
      ],
      "metadata": {
        "id": "Axq4nebcIh69"
      },
      "execution_count": null,
      "outputs": []
    },
    {
      "cell_type": "markdown",
      "source": [
        "A partir da residência de cada integrante da equipe, quantos serviços públicos estão disponíveis num raio de 1km, 5km e 10km?"
      ],
      "metadata": {
        "id": "pRNilj78YQE9"
      }
    },
    {
      "cell_type": "code",
      "source": [
        "def get_graph_of_services(student_name: str, distance: int, graph: nx.MultiDiGraph = G) -> nx.MultiDiGraph:\n",
        "\n",
        "  def get_services_in_graph(graph: nx.MultiDiGraph) -> list[int]:\n",
        "    services_in_graph = []\n",
        "\n",
        "    nodes, _ = ox.graph_to_gdfs(graph)\n",
        "\n",
        "    for idx, node in nodes.iterrows():\n",
        "      if node['label'] in ALL_SERVICE_TAGS:\n",
        "        services_in_graph.append(idx)\n",
        "\n",
        "    return services_in_graph\n",
        "\n",
        "  student_node = get_student_node_id(student_name)\n",
        "\n",
        "  services_graph = ox.truncate \\\n",
        "    .truncate_graph_dist(graph, student_node, dist=distance, weight='length')\n",
        "\n",
        "  services = get_services_in_graph(services_graph)\n",
        "\n",
        "  load_all_data_sets(services_graph)\n",
        "\n",
        "  return services_graph"
      ],
      "metadata": {
        "id": "4EfMONnSbg4k"
      },
      "execution_count": null,
      "outputs": []
    },
    {
      "cell_type": "code",
      "source": [
        "def make_map_of_services_in_distance(\n",
        "    student_name: str,\n",
        "    radiuses: dict[int, str] = { 1000: 'red', 5000: 'blue', 10000: 'orange' }):\n",
        "  G_services_nearby_student = get_graph_of_services(student_name, max(distances))\n",
        "\n",
        "  map = make_map(G_services_nearby_student)\n",
        "\n",
        "  student_node = G_services_nearby_student \\\n",
        "    .nodes[get_student_node_id(student_name)]\n",
        "\n",
        "  location = get_node_location(student_node)\n",
        "\n",
        "  for k in radiuses:\n",
        "    k_name = f'{k} metros'\n",
        "\n",
        "    group = fl.FeatureGroup(k_name) \\\n",
        "      .add_to(map)\n",
        "\n",
        "    fl.Circle(\n",
        "      location=location,\n",
        "      radius=k,\n",
        "      weight=0,\n",
        "      fill_opacity=0.25,\n",
        "      opacity=1,\n",
        "      fill_color=radiuses[k],\n",
        "      fill=False,\n",
        "\n",
        "      tooltip=k_name\n",
        "    ).add_to(group)\n",
        "\n",
        "  return map"
      ],
      "metadata": {
        "id": "9W0BICbp3tk9"
      },
      "execution_count": null,
      "outputs": []
    },
    {
      "cell_type": "code",
      "source": [
        "m = make_map_of_services_in_distance('lemuel')\n",
        "\n",
        "m"
      ],
      "metadata": {
        "id": "0m507bjyapGa"
      },
      "execution_count": null,
      "outputs": []
    }
  ]
}