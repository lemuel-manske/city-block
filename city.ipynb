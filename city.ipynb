{
  "nbformat": 4,
  "nbformat_minor": 0,
  "metadata": {
    "colab": {
      "provenance": []
    },
    "kernelspec": {
      "name": "python3",
      "display_name": "Python 3"
    },
    "language_info": {
      "name": "python"
    }
  },
  "cells": [
    {
      "cell_type": "markdown",
      "source": [
        "# Bibliotecas\n",
        "\n",
        "Nesta seção, vamos instalar e importar todas as bibliotecas utilizadas para o trabalho.\n",
        "\n",
        "- [osmnx](https://osmnx.readthedocs.io/en/stable/)\n",
        "- [geopandas](https://geopandas.org/en/stable/),\n",
        "- [pandas](https://pandas.pydata.org/),\n",
        "- [seaborn](https://seaborn.pydata.org/),\n",
        "- [folium](https://python-visualization.github.io/folium/latest/),\n",
        "- [matplotlib](https://matplotlib.org/),\n",
        "- [shapely](https://shapely.readthedocs.io/en/stable/manual.html) e\n",
        "- [networkx](https://networkx.org/)"
      ],
      "metadata": {
        "id": "iMz1bOU0PHBR"
      }
    },
    {
      "cell_type": "markdown",
      "source": [
        "1. Instalar bibliotecas com `pip`"
      ],
      "metadata": {
        "id": "FRkDGWoIlSJs"
      }
    },
    {
      "cell_type": "code",
      "source": [
        "!pip install osmnx\n",
        "!pip install geopandas\n",
        "!pip install pandas\n",
        "!pip install seaborn\n",
        "!pip install folium\n",
        "!pip install matplotlib\n",
        "!pip install shapely\n",
        "!pip install networkx"
      ],
      "metadata": {
        "id": "H3Zsrcf9Pf4Y",
        "colab": {
          "base_uri": "https://localhost:8080/"
        },
        "outputId": "1e6a880f-0c9d-4eae-8569-b56acd0506ea",
        "collapsed": true
      },
      "execution_count": 175,
      "outputs": [
        {
          "output_type": "stream",
          "name": "stdout",
          "text": [
            "Requirement already satisfied: osmnx in /usr/local/lib/python3.11/dist-packages (2.0.4)\n",
            "Requirement already satisfied: geopandas>=1.0 in /usr/local/lib/python3.11/dist-packages (from osmnx) (1.0.1)\n",
            "Requirement already satisfied: networkx>=2.5 in /usr/local/lib/python3.11/dist-packages (from osmnx) (3.5)\n",
            "Requirement already satisfied: numpy>=1.22 in /usr/local/lib/python3.11/dist-packages (from osmnx) (2.0.2)\n",
            "Requirement already satisfied: pandas>=1.4 in /usr/local/lib/python3.11/dist-packages (from osmnx) (2.2.2)\n",
            "Requirement already satisfied: requests>=2.27 in /usr/local/lib/python3.11/dist-packages (from osmnx) (2.32.3)\n",
            "Requirement already satisfied: shapely>=2.0 in /usr/local/lib/python3.11/dist-packages (from osmnx) (2.1.1)\n",
            "Requirement already satisfied: pyogrio>=0.7.2 in /usr/local/lib/python3.11/dist-packages (from geopandas>=1.0->osmnx) (0.11.0)\n",
            "Requirement already satisfied: packaging in /usr/local/lib/python3.11/dist-packages (from geopandas>=1.0->osmnx) (24.2)\n",
            "Requirement already satisfied: pyproj>=3.3.0 in /usr/local/lib/python3.11/dist-packages (from geopandas>=1.0->osmnx) (3.7.1)\n",
            "Requirement already satisfied: python-dateutil>=2.8.2 in /usr/local/lib/python3.11/dist-packages (from pandas>=1.4->osmnx) (2.9.0.post0)\n",
            "Requirement already satisfied: pytz>=2020.1 in /usr/local/lib/python3.11/dist-packages (from pandas>=1.4->osmnx) (2025.2)\n",
            "Requirement already satisfied: tzdata>=2022.7 in /usr/local/lib/python3.11/dist-packages (from pandas>=1.4->osmnx) (2025.2)\n",
            "Requirement already satisfied: charset-normalizer<4,>=2 in /usr/local/lib/python3.11/dist-packages (from requests>=2.27->osmnx) (3.4.2)\n",
            "Requirement already satisfied: idna<4,>=2.5 in /usr/local/lib/python3.11/dist-packages (from requests>=2.27->osmnx) (3.10)\n",
            "Requirement already satisfied: urllib3<3,>=1.21.1 in /usr/local/lib/python3.11/dist-packages (from requests>=2.27->osmnx) (2.4.0)\n",
            "Requirement already satisfied: certifi>=2017.4.17 in /usr/local/lib/python3.11/dist-packages (from requests>=2.27->osmnx) (2025.6.15)\n",
            "Requirement already satisfied: six>=1.5 in /usr/local/lib/python3.11/dist-packages (from python-dateutil>=2.8.2->pandas>=1.4->osmnx) (1.17.0)\n",
            "Requirement already satisfied: geopandas in /usr/local/lib/python3.11/dist-packages (1.0.1)\n",
            "Requirement already satisfied: numpy>=1.22 in /usr/local/lib/python3.11/dist-packages (from geopandas) (2.0.2)\n",
            "Requirement already satisfied: pyogrio>=0.7.2 in /usr/local/lib/python3.11/dist-packages (from geopandas) (0.11.0)\n",
            "Requirement already satisfied: packaging in /usr/local/lib/python3.11/dist-packages (from geopandas) (24.2)\n",
            "Requirement already satisfied: pandas>=1.4.0 in /usr/local/lib/python3.11/dist-packages (from geopandas) (2.2.2)\n",
            "Requirement already satisfied: pyproj>=3.3.0 in /usr/local/lib/python3.11/dist-packages (from geopandas) (3.7.1)\n",
            "Requirement already satisfied: shapely>=2.0.0 in /usr/local/lib/python3.11/dist-packages (from geopandas) (2.1.1)\n",
            "Requirement already satisfied: python-dateutil>=2.8.2 in /usr/local/lib/python3.11/dist-packages (from pandas>=1.4.0->geopandas) (2.9.0.post0)\n",
            "Requirement already satisfied: pytz>=2020.1 in /usr/local/lib/python3.11/dist-packages (from pandas>=1.4.0->geopandas) (2025.2)\n",
            "Requirement already satisfied: tzdata>=2022.7 in /usr/local/lib/python3.11/dist-packages (from pandas>=1.4.0->geopandas) (2025.2)\n",
            "Requirement already satisfied: certifi in /usr/local/lib/python3.11/dist-packages (from pyogrio>=0.7.2->geopandas) (2025.6.15)\n",
            "Requirement already satisfied: six>=1.5 in /usr/local/lib/python3.11/dist-packages (from python-dateutil>=2.8.2->pandas>=1.4.0->geopandas) (1.17.0)\n",
            "Requirement already satisfied: pandas in /usr/local/lib/python3.11/dist-packages (2.2.2)\n",
            "Requirement already satisfied: numpy>=1.23.2 in /usr/local/lib/python3.11/dist-packages (from pandas) (2.0.2)\n",
            "Requirement already satisfied: python-dateutil>=2.8.2 in /usr/local/lib/python3.11/dist-packages (from pandas) (2.9.0.post0)\n",
            "Requirement already satisfied: pytz>=2020.1 in /usr/local/lib/python3.11/dist-packages (from pandas) (2025.2)\n",
            "Requirement already satisfied: tzdata>=2022.7 in /usr/local/lib/python3.11/dist-packages (from pandas) (2025.2)\n",
            "Requirement already satisfied: six>=1.5 in /usr/local/lib/python3.11/dist-packages (from python-dateutil>=2.8.2->pandas) (1.17.0)\n",
            "Requirement already satisfied: seaborn in /usr/local/lib/python3.11/dist-packages (0.13.2)\n",
            "Requirement already satisfied: numpy!=1.24.0,>=1.20 in /usr/local/lib/python3.11/dist-packages (from seaborn) (2.0.2)\n",
            "Requirement already satisfied: pandas>=1.2 in /usr/local/lib/python3.11/dist-packages (from seaborn) (2.2.2)\n",
            "Requirement already satisfied: matplotlib!=3.6.1,>=3.4 in /usr/local/lib/python3.11/dist-packages (from seaborn) (3.10.0)\n",
            "Requirement already satisfied: contourpy>=1.0.1 in /usr/local/lib/python3.11/dist-packages (from matplotlib!=3.6.1,>=3.4->seaborn) (1.3.2)\n",
            "Requirement already satisfied: cycler>=0.10 in /usr/local/lib/python3.11/dist-packages (from matplotlib!=3.6.1,>=3.4->seaborn) (0.12.1)\n",
            "Requirement already satisfied: fonttools>=4.22.0 in /usr/local/lib/python3.11/dist-packages (from matplotlib!=3.6.1,>=3.4->seaborn) (4.58.4)\n",
            "Requirement already satisfied: kiwisolver>=1.3.1 in /usr/local/lib/python3.11/dist-packages (from matplotlib!=3.6.1,>=3.4->seaborn) (1.4.8)\n",
            "Requirement already satisfied: packaging>=20.0 in /usr/local/lib/python3.11/dist-packages (from matplotlib!=3.6.1,>=3.4->seaborn) (24.2)\n",
            "Requirement already satisfied: pillow>=8 in /usr/local/lib/python3.11/dist-packages (from matplotlib!=3.6.1,>=3.4->seaborn) (11.2.1)\n",
            "Requirement already satisfied: pyparsing>=2.3.1 in /usr/local/lib/python3.11/dist-packages (from matplotlib!=3.6.1,>=3.4->seaborn) (3.2.3)\n",
            "Requirement already satisfied: python-dateutil>=2.7 in /usr/local/lib/python3.11/dist-packages (from matplotlib!=3.6.1,>=3.4->seaborn) (2.9.0.post0)\n",
            "Requirement already satisfied: pytz>=2020.1 in /usr/local/lib/python3.11/dist-packages (from pandas>=1.2->seaborn) (2025.2)\n",
            "Requirement already satisfied: tzdata>=2022.7 in /usr/local/lib/python3.11/dist-packages (from pandas>=1.2->seaborn) (2025.2)\n",
            "Requirement already satisfied: six>=1.5 in /usr/local/lib/python3.11/dist-packages (from python-dateutil>=2.7->matplotlib!=3.6.1,>=3.4->seaborn) (1.17.0)\n",
            "Requirement already satisfied: folium in /usr/local/lib/python3.11/dist-packages (0.19.7)\n",
            "Requirement already satisfied: branca>=0.6.0 in /usr/local/lib/python3.11/dist-packages (from folium) (0.8.1)\n",
            "Requirement already satisfied: jinja2>=2.9 in /usr/local/lib/python3.11/dist-packages (from folium) (3.1.6)\n",
            "Requirement already satisfied: numpy in /usr/local/lib/python3.11/dist-packages (from folium) (2.0.2)\n",
            "Requirement already satisfied: requests in /usr/local/lib/python3.11/dist-packages (from folium) (2.32.3)\n",
            "Requirement already satisfied: xyzservices in /usr/local/lib/python3.11/dist-packages (from folium) (2025.4.0)\n",
            "Requirement already satisfied: MarkupSafe>=2.0 in /usr/local/lib/python3.11/dist-packages (from jinja2>=2.9->folium) (3.0.2)\n",
            "Requirement already satisfied: charset-normalizer<4,>=2 in /usr/local/lib/python3.11/dist-packages (from requests->folium) (3.4.2)\n",
            "Requirement already satisfied: idna<4,>=2.5 in /usr/local/lib/python3.11/dist-packages (from requests->folium) (3.10)\n",
            "Requirement already satisfied: urllib3<3,>=1.21.1 in /usr/local/lib/python3.11/dist-packages (from requests->folium) (2.4.0)\n",
            "Requirement already satisfied: certifi>=2017.4.17 in /usr/local/lib/python3.11/dist-packages (from requests->folium) (2025.6.15)\n",
            "Requirement already satisfied: matplotlib in /usr/local/lib/python3.11/dist-packages (3.10.0)\n",
            "Requirement already satisfied: contourpy>=1.0.1 in /usr/local/lib/python3.11/dist-packages (from matplotlib) (1.3.2)\n",
            "Requirement already satisfied: cycler>=0.10 in /usr/local/lib/python3.11/dist-packages (from matplotlib) (0.12.1)\n",
            "Requirement already satisfied: fonttools>=4.22.0 in /usr/local/lib/python3.11/dist-packages (from matplotlib) (4.58.4)\n",
            "Requirement already satisfied: kiwisolver>=1.3.1 in /usr/local/lib/python3.11/dist-packages (from matplotlib) (1.4.8)\n",
            "Requirement already satisfied: numpy>=1.23 in /usr/local/lib/python3.11/dist-packages (from matplotlib) (2.0.2)\n",
            "Requirement already satisfied: packaging>=20.0 in /usr/local/lib/python3.11/dist-packages (from matplotlib) (24.2)\n",
            "Requirement already satisfied: pillow>=8 in /usr/local/lib/python3.11/dist-packages (from matplotlib) (11.2.1)\n",
            "Requirement already satisfied: pyparsing>=2.3.1 in /usr/local/lib/python3.11/dist-packages (from matplotlib) (3.2.3)\n",
            "Requirement already satisfied: python-dateutil>=2.7 in /usr/local/lib/python3.11/dist-packages (from matplotlib) (2.9.0.post0)\n",
            "Requirement already satisfied: six>=1.5 in /usr/local/lib/python3.11/dist-packages (from python-dateutil>=2.7->matplotlib) (1.17.0)\n",
            "Requirement already satisfied: shapely in /usr/local/lib/python3.11/dist-packages (2.1.1)\n",
            "Requirement already satisfied: numpy>=1.21 in /usr/local/lib/python3.11/dist-packages (from shapely) (2.0.2)\n",
            "Requirement already satisfied: networkx in /usr/local/lib/python3.11/dist-packages (3.5)\n"
          ]
        }
      ]
    },
    {
      "cell_type": "markdown",
      "source": [
        "2. Importar todas as bibliotecas necessárias"
      ],
      "metadata": {
        "id": "V8zTgyDuS53y"
      }
    },
    {
      "cell_type": "code",
      "source": [
        "from typing import Union\n",
        "\n",
        "from shapely.geometry import Point, LineString\n",
        "\n",
        "import pandas as pd\n",
        "import geopandas as gpd\n",
        "\n",
        "import seaborn as sns\n",
        "\n",
        "import folium as fl\n",
        "\n",
        "import osmnx as ox\n",
        "import networkx as nx\n",
        "\n",
        "import matplotlib.pyplot as plt"
      ],
      "metadata": {
        "id": "y-Qfa1AtUa3_"
      },
      "execution_count": 176,
      "outputs": []
    },
    {
      "cell_type": "markdown",
      "source": [
        "# Preparação\n",
        "\n",
        "Nesta seção, vamos preparar o grafo com os dados recolhidos [neste repositório](https://github.com/lemuel-manske/city-block/tree/main/data) e organizar vértices e arestas por bairro."
      ],
      "metadata": {
        "id": "sdpdkIeZQbD5"
      }
    },
    {
      "cell_type": "markdown",
      "source": [
        "1. Gerar o grafo da manha viária - [`network_type='drive'`](https://osmnx.readthedocs.io/en/stable/internals-reference.html#osmnx-graph-module) - de Blumenau. Obs.: integrantes Lemuel e Lucas são de Blumenau, Rodrigo é de Timbó. Para facilitar a análise posterior, optamos por colocar Rodrigo com residência de referência em Blumenau e não em Timbó"
      ],
      "metadata": {
        "id": "yzPMaFsOPgmR"
      }
    },
    {
      "cell_type": "code",
      "source": [
        "BLUMENAU = 'Blumenau, Brazil'"
      ],
      "metadata": {
        "id": "Dbf_th-k8rCO"
      },
      "execution_count": 177,
      "outputs": []
    },
    {
      "cell_type": "code",
      "source": [
        "'''\n",
        "  Get's graph from a given `place`.\n",
        "'''\n",
        "def get_graph_from_place(place: str):\n",
        "  return ox.graph_from_place(\n",
        "    place,\n",
        "    network_type='drive'\n",
        "  )"
      ],
      "metadata": {
        "id": "wvBR3-5fPLJ6"
      },
      "execution_count": 178,
      "outputs": []
    },
    {
      "cell_type": "code",
      "source": [
        "'''\n",
        "  Creates the source graph, composed of all places.\n",
        "'''\n",
        "def make_source_graph() -> nx.MultiDiGraph:\n",
        "  return get_graph_from_place(BLUMENAU)"
      ],
      "metadata": {
        "id": "ty0I7ld6c96v"
      },
      "execution_count": 179,
      "outputs": []
    },
    {
      "cell_type": "markdown",
      "source": [
        "2. Importar os [dados](http://github.com/lemuel-manske/city-block/data) recolhidos para análise. Para este processo, foram coletadas longitude - `x` - e latitude - `y` - de cada ponto de interesse"
      ],
      "metadata": {
        "id": "1n7LPG9ZC8vf"
      }
    },
    {
      "cell_type": "code",
      "source": [
        "ESTUDANTE_TAG = 'estudante'\n",
        "\n",
        "HOSPITAL_TAG = 'hospital'\n",
        "CRECHE_TAG = 'creche'\n",
        "ESCOLA_TAG = 'escola'\n",
        "PONTO_SAUDE_TAG = 'ponto_saude'\n",
        "PSICOSSOCIAL_TAG = 'psicossocial'\n",
        "\n",
        "ALL_SERVICE_TAGS = [\n",
        "  HOSPITAL_TAG,\n",
        "  CRECHE_TAG,\n",
        "  ESCOLA_TAG,\n",
        "  PONTO_SAUDE_TAG,\n",
        "  PSICOSSOCIAL_TAG\n",
        "]\n",
        "\n",
        "BAIRROS_BLUMENAU_TAG = 'bairros_blumenau'"
      ],
      "metadata": {
        "id": "7gUfGx1TdRKH"
      },
      "execution_count": 180,
      "outputs": []
    },
    {
      "cell_type": "code",
      "source": [
        "REPOSITORY = 'https://raw.githubusercontent.com/lemuel-manske/city-block/main/data'\n",
        "\n",
        "DATASETS = {\n",
        "    HOSPITAL_TAG:         REPOSITORY + '/hospitais.csv',\n",
        "    ESTUDANTE_TAG:        REPOSITORY + '/estudantes.csv',\n",
        "    CRECHE_TAG:           REPOSITORY + '/creches.csv',\n",
        "    ESCOLA_TAG:           REPOSITORY + '/escolas.csv',\n",
        "    PONTO_SAUDE_TAG:      REPOSITORY + '/pontos_saude.csv',\n",
        "    PSICOSSOCIAL_TAG:     REPOSITORY + '/centros_psicossociais.csv',\n",
        "    BAIRROS_BLUMENAU_TAG: REPOSITORY + '/bairros_blumenau.csv'\n",
        "}\n",
        "\n",
        "DATAFRAMES = {\n",
        "    HOSPITAL_TAG:         pd.read_csv(DATASETS[HOSPITAL_TAG]),\n",
        "    ESTUDANTE_TAG:        pd.read_csv(DATASETS[ESTUDANTE_TAG]),\n",
        "    CRECHE_TAG:           pd.read_csv(DATASETS[CRECHE_TAG]),\n",
        "    ESCOLA_TAG:           pd.read_csv(DATASETS[ESCOLA_TAG]),\n",
        "    PONTO_SAUDE_TAG:      pd.read_csv(DATASETS[PONTO_SAUDE_TAG]),\n",
        "    PSICOSSOCIAL_TAG:     pd.read_csv(DATASETS[PSICOSSOCIAL_TAG]),\n",
        "    BAIRROS_BLUMENAU_TAG: pd.read_csv(DATASETS[BAIRROS_BLUMENAU_TAG])\n",
        "}"
      ],
      "metadata": {
        "id": "_6DBSgd6dSWq"
      },
      "execution_count": 181,
      "outputs": []
    },
    {
      "cell_type": "markdown",
      "source": [
        "3. No grafo gerado anteriormente, vamos adicionar novos vértices que compõem os serviços carregados na variável `DATAFRAMES`. Esses novos vértices serão conectados com arestas aos vértices de malha viária mais próximos"
      ],
      "metadata": {
        "id": "hpy-3xHCrWRU"
      }
    },
    {
      "cell_type": "code",
      "source": [
        "'''\n",
        "  Loads all `DATAFRAMES` into a graph `G`.\n",
        "\n",
        "  This function will add nodes for the points for interest (POI) in the graph `G`\n",
        "  and connect those nodes with their nearest node.\n",
        "'''\n",
        "def import_data_to_graph(graph: nx.MultiDiGraph):\n",
        "  node_id_counter = max(graph.nodes) + 1\n",
        "\n",
        "  def desserialize(value: str) -> Union[str, bool]:\n",
        "    if value == 'yes':\n",
        "      return True\n",
        "\n",
        "    if value == 'no':\n",
        "      return False\n",
        "\n",
        "    return value\n",
        "\n",
        "  def label_points_of_interest(dataframe: pd.DataFrame, label: str, tags: list[str]):\n",
        "    nonlocal node_id_counter\n",
        "\n",
        "    for idx, row in dataframe.iterrows():\n",
        "      poi_x, poi_y = row['x'], row['y']\n",
        "\n",
        "      nearest_node = ox.distance.nearest_nodes(graph, X=poi_x, Y=poi_y)\n",
        "\n",
        "      poi_node_id = node_id_counter\n",
        "      node_id_counter += 1\n",
        "\n",
        "      graph.add_node(\n",
        "        poi_node_id,\n",
        "        x=poi_x,\n",
        "        y=poi_y,\n",
        "        geometry=Point(poi_x, poi_y),\n",
        "        street_count=0,\n",
        "        label=label,\n",
        "        **{tag: desserialize(row[tag]) for tag in tags}\n",
        "      )\n",
        "\n",
        "      geometry = LineString([(poi_x, poi_y), (graph.nodes[nearest_node]['x'], graph.nodes[nearest_node]['y'])])\n",
        "\n",
        "      graph.add_edge(poi_node_id, nearest_node, key=0, geometry=geometry)\n",
        "      graph.add_edge(nearest_node, poi_node_id, key=0, geometry=geometry)\n",
        "\n",
        "  def load_data_set(label: str, tags: list[str]):\n",
        "    label_points_of_interest(DATAFRAMES[label], label, tags)\n",
        "\n",
        "  load_data_set(ESTUDANTE_TAG,    ['ref',  'student_name'])\n",
        "  load_data_set(HOSPITAL_TAG,     ['name', 'is_public'])\n",
        "  load_data_set(CRECHE_TAG,       ['name', 'is_public'])\n",
        "  load_data_set(ESCOLA_TAG,       ['name', 'is_public'])\n",
        "  load_data_set(PONTO_SAUDE_TAG,  ['name', 'is_public'])\n",
        "  load_data_set(PSICOSSOCIAL_TAG, ['name', 'is_public'])"
      ],
      "metadata": {
        "id": "FlaH4Ar3C7CJ"
      },
      "execution_count": 182,
      "outputs": []
    },
    {
      "cell_type": "code",
      "source": [
        "G = make_source_graph()\n",
        "\n",
        "import_data_to_graph(G)"
      ],
      "metadata": {
        "id": "kqB-Et0QeREL"
      },
      "execution_count": null,
      "outputs": []
    },
    {
      "cell_type": "markdown",
      "source": [
        "4. Afim de facilitar a análise, vamos separar todas os vértices e arestas por bairro. Foi necessário remover os bairros que não são reconhecidos na divisão administrativa feita pela prefeitura [neste link](https://www.blumenau.sc.gov.br/secretarias/secretaria-de-desenvolvimento-urbano/pagina/historia-sobre-municipio/divisa-administrativa-bairros) mas que o OSM reconhece\n",
        "\n",
        "  - https://osmnx.readthedocs.io/en/stable/user-reference.html#osmnx.features.features_from_place\n",
        "  - https://wiki.openstreetmap.org/wiki/Key:admin_level\n",
        "  - https://www.ibge.gov.br/estatisticas/sociais/saude/22827-censo-demografico-2022.html"
      ],
      "metadata": {
        "id": "yAAErWvOhASP"
      }
    },
    {
      "cell_type": "code",
      "source": [
        "'''\n",
        "  Get's all neighborhoods (idenfied by admin_level 10) on a given place,\n",
        "  white listing by `places_to_filter`.\n",
        "'''\n",
        "def get_neighborhoods(place: str, places_to_filter: list[str]):\n",
        "  return ox.features.features_from_place(place, {'admin_level': '10'}) \\\n",
        "    .query(f'name in {list(places_to_filter)}')"
      ],
      "metadata": {
        "id": "9OdibwjIenmb"
      },
      "execution_count": null,
      "outputs": []
    },
    {
      "cell_type": "code",
      "source": [
        "neighborhoods = get_neighborhoods(BLUMENAU, DATAFRAMES[BAIRROS_BLUMENAU_TAG]['name']) \\\n",
        "  .merge(DATAFRAMES[BAIRROS_BLUMENAU_TAG][['name', 'hab']], on='name', how='left') # `hab` holds population count"
      ],
      "metadata": {
        "id": "I3owMIsRUI34"
      },
      "execution_count": null,
      "outputs": []
    },
    {
      "cell_type": "markdown",
      "source": [
        "5. Com o geopandas, podemos fazer um [*spatial join*](https://geopandas.org/en/stable/docs/reference/api/geopandas.GeoDataFrame.sjoin.html#geopandas.GeoDataFrame.sjoin) dos vértices - `G_nodes` - do grafo original que sobrepoem - `predicate='intersects'` - qualquer polígono - `neighborhoods[['geometry']]`. Por fim, renomeamos a coluna de `name_right` para `name` para manter consistência. A saída são todos os vértices de `G`, porém agora estão identificados por bairro num `GeoDataFrame`"
      ],
      "metadata": {
        "id": "SndC3aX9cLaK"
      }
    },
    {
      "cell_type": "code",
      "source": [
        "def pair_nodes_with_neighborhood_name(graph: nx.MultiDiGraph):\n",
        "  nodes, _ = ox.graph_to_gdfs(graph)\n",
        "\n",
        "  return gpd \\\n",
        "    .sjoin(nodes, neighborhoods[['name', 'geometry']], how='left', predicate='intersects') \\\n",
        "    .rename(columns={'name_right': 'name'})['name'] \\\n",
        "    .to_dict()"
      ],
      "metadata": {
        "id": "q-3HqYLK9J2Q"
      },
      "execution_count": null,
      "outputs": []
    },
    {
      "cell_type": "code",
      "source": [
        "nx.set_node_attributes(G, pair_nodes_with_neighborhood_name(G), 'neighborhood_name') # adds the new 'neighborhood_name' to G nodes"
      ],
      "metadata": {
        "id": "eUlpJNdKeCsu"
      },
      "execution_count": null,
      "outputs": []
    },
    {
      "cell_type": "markdown",
      "source": [
        "6. Por fim, definem-se algumas funções utilitárias/auxiliares para facilitar a análise posterior"
      ],
      "metadata": {
        "id": "kyloRi9mTCK3"
      }
    },
    {
      "cell_type": "code",
      "source": [
        "'''\n",
        "  Returns all nodes with a given `label` in a `graph`.\n",
        "'''\n",
        "def get_labeled_nodes(label: str, graph: nx.MultiDiGraph = G) -> gpd.GeoDataFrame:\n",
        "  nodes, _ = ox.graph_to_gdfs(graph)\n",
        "\n",
        "  return nodes[nodes['label'] == label]"
      ],
      "metadata": {
        "id": "ihG2YFklmzwC"
      },
      "execution_count": null,
      "outputs": []
    },
    {
      "cell_type": "code",
      "source": [
        "'''\n",
        "  Get's the node id of a given `student_name`.\n",
        "'''\n",
        "def get_student_node_id(student_name: str, graph: nx.MultiDiGraph = G) -> int:\n",
        "  students = get_labeled_nodes(ESTUDANTE_TAG, graph)\n",
        "\n",
        "  student_node = students[students['student_name'] == student_name]\n",
        "\n",
        "  return student_node.index[0]"
      ],
      "metadata": {
        "id": "-yE-x75zuY5Q"
      },
      "execution_count": null,
      "outputs": []
    },
    {
      "cell_type": "code",
      "source": [
        "'''\n",
        "  Returns the closest node labelled by `target_service` to a student\n",
        "  named `student_name`, e.g. the closest hospital.\n",
        "'''\n",
        "def closest_service_from_student(student_name: str, target_service: str, graph: nx.MultiDiGraph = G) -> int:\n",
        "  start = get_student_node_id(student_name)\n",
        "\n",
        "  target_nodes = get_labeled_nodes(target_service)\n",
        "\n",
        "  curr_path_dist = None\n",
        "\n",
        "  end_node = None\n",
        "\n",
        "  for _, hospital in target_nodes.iterrows():\n",
        "    end = hospital.name\n",
        "\n",
        "    new_path_dist = nx.dijkstra_path_length(G, start, end)\n",
        "\n",
        "    if curr_path_dist is None:\n",
        "      curr_path_dist = new_path_dist\n",
        "      end_node = end\n",
        "\n",
        "    elif new_path_dist < curr_path_dist:\n",
        "      curr_path_dist = new_path_dist\n",
        "      end_node = end\n",
        "\n",
        "  return end_node"
      ],
      "metadata": {
        "id": "rc8TDYmVxd_U"
      },
      "execution_count": null,
      "outputs": []
    },
    {
      "cell_type": "code",
      "source": [
        "'''\n",
        "  Returns the number of services by neighborhood.\n",
        "'''\n",
        "def count_services_by_neighborhood(graph: nx.MultiDiGraph = G):\n",
        "  service_counts = {}\n",
        "\n",
        "  for service_tag in ALL_SERVICE_TAGS:\n",
        "    labeled_nodes = get_labeled_nodes(service_tag, graph)\n",
        "\n",
        "    service_counts[service_tag] = labeled_nodes.groupby('neighborhood_name') \\\n",
        "      .size() \\\n",
        "      .reset_index(name='count')\n",
        "\n",
        "  return service_counts"
      ],
      "metadata": {
        "id": "2gv8mtzPoQOk"
      },
      "execution_count": null,
      "outputs": []
    },
    {
      "cell_type": "code",
      "source": [
        "'''\n",
        "  Returns the centroid of a `GeoDataFrame`.\n",
        "'''\n",
        "def center(nodes: gpd.GeoDataFrame):\n",
        "  return nodes.geometry.union_all().centroid"
      ],
      "metadata": {
        "id": "X0Ya9Is8fYgw"
      },
      "execution_count": null,
      "outputs": []
    },
    {
      "cell_type": "code",
      "source": [
        "'''\n",
        "  Given a node containing `x` and `y`, returns its location\n",
        "  as a `(y, x)`, that is, (lat, long) tuple.\n",
        "'''\n",
        "def get_node_location(node) -> tuple[float, float]:\n",
        "  return (node['y'], node['x'])"
      ],
      "metadata": {
        "id": "kql6sXDt9Wo6"
      },
      "execution_count": null,
      "outputs": []
    },
    {
      "cell_type": "code",
      "source": [
        "# define some variables that will be used later,\n",
        "# just to keep them instead of call the functions every time\n",
        "\n",
        "G_nodes, G_edges = ox.graph_to_gdfs(G)\n",
        "\n",
        "G_center = center(G_nodes)"
      ],
      "metadata": {
        "id": "uZVbl9-ja_pv"
      },
      "execution_count": null,
      "outputs": []
    },
    {
      "cell_type": "markdown",
      "source": [
        "# Análise\n",
        "\n",
        "Nesta seção vamos gerar informações a partir do mapemento dos dados no grafo `G`."
      ],
      "metadata": {
        "id": "R6wd2txiVnWT"
      }
    },
    {
      "cell_type": "code",
      "source": [
        "'''\n",
        "  Makes a folium map labelling all points of interest.\n",
        "'''\n",
        "def make_map(graph: nx.MultiDiGraph = G):\n",
        "\n",
        "  def line_off_neighborhoods(m):\n",
        "    fields = ['name']\n",
        "\n",
        "    fl.GeoJson(\n",
        "      neighborhoods.to_json(),\n",
        "      name='Bairros',\n",
        "      tooltip=fl.GeoJsonTooltip(labels=False, fields=fields, max_width=100)\n",
        "    ).add_to(m)\n",
        "\n",
        "\n",
        "  def mark_out_students(m):\n",
        "    fields = ['student_name', 'ref', 'neighborhood_name']\n",
        "\n",
        "    marker = fl.Marker(\n",
        "      icon=fl.Icon(color='blue', icon='home')\n",
        "    )\n",
        "\n",
        "    fl.GeoJson(\n",
        "      get_labeled_nodes(ESTUDANTE_TAG, graph),\n",
        "      name='Estudantes',\n",
        "      marker=marker,\n",
        "      tooltip=fl.GeoJsonTooltip(fields=fields, max_width=100)\n",
        "    ).add_to(m)\n",
        "\n",
        "\n",
        "  def mark_out_hospitals(m):\n",
        "    fields = ['name', 'neighborhood_name']\n",
        "\n",
        "    marker = fl.Marker(\n",
        "      icon=fl.Icon(color='red', icon='h-square', prefix='fa')\n",
        "    )\n",
        "\n",
        "    hospitals = get_labeled_nodes(HOSPITAL_TAG, graph)\n",
        "\n",
        "    if hospitals.empty:\n",
        "      return\n",
        "\n",
        "    fl.GeoJson(\n",
        "      hospitals,\n",
        "      name='Hospitais',\n",
        "      marker=marker,\n",
        "      tooltip=fl.GeoJsonTooltip(fields=fields, max_width=100)\n",
        "    ).add_to(m)\n",
        "\n",
        "\n",
        "  def mark_out_childcare(m):\n",
        "    fields = ['name', 'neighborhood_name']\n",
        "\n",
        "    marker = fl.Marker(\n",
        "      icon=fl.Icon(color='green', icon='child', prefix='fa')\n",
        "    )\n",
        "\n",
        "    fl.GeoJson(\n",
        "      get_labeled_nodes(CRECHE_TAG, graph),\n",
        "      name='Creches',\n",
        "      marker=marker,\n",
        "      tooltip=fl.GeoJsonTooltip(fields=fields, max_width=100)\n",
        "\n",
        "    ).add_to(m)\n",
        "\n",
        "\n",
        "  def mark_out_schools(m):\n",
        "    fields = ['name', 'neighborhood_name']\n",
        "\n",
        "    marker = fl.Marker(\n",
        "      icon=fl.Icon(color='orange', icon='graduation-cap', prefix='fa')\n",
        "    )\n",
        "\n",
        "    fl.GeoJson(\n",
        "      get_labeled_nodes(ESCOLA_TAG, graph),\n",
        "      name='Escolas',\n",
        "      marker=marker,\n",
        "      tooltip=fl.GeoJsonTooltip(fields=fields, max_width=100)\n",
        "    ).add_to(m)\n",
        "\n",
        "\n",
        "  def mark_out_psychosocial_care(m):\n",
        "    fields = ['name', 'neighborhood_name']\n",
        "\n",
        "    marker = fl.Marker(\n",
        "      icon=fl.Icon(color='purple', icon='user-md', prefix='fa')\n",
        "    )\n",
        "\n",
        "    fl.GeoJson(\n",
        "      get_labeled_nodes(PSICOSSOCIAL_TAG, graph),\n",
        "      name='Centros psicossociais',\n",
        "      marker=marker,\n",
        "      tooltip=fl.GeoJsonTooltip(fields=fields, max_width=100)\n",
        "    ).add_to(m)\n",
        "\n",
        "\n",
        "  def mark_out_points_of_care(m):\n",
        "    fields = ['name', 'neighborhood_name']\n",
        "\n",
        "    marker = fl.Marker(\n",
        "      icon=fl.Icon(color='gray', icon='medkit', prefix='fa')\n",
        "    )\n",
        "\n",
        "    fl.GeoJson(\n",
        "      get_labeled_nodes(PONTO_SAUDE_TAG, graph),\n",
        "      name='Pontos de saúde',\n",
        "      marker=marker,\n",
        "      tooltip=fl.GeoJsonTooltip(fields=fields, max_width=100)\n",
        "    ).add_to(m)\n",
        "\n",
        "  nodes, edges = ox.graph_to_gdfs(graph)\n",
        "\n",
        "  c = center(nodes)\n",
        "\n",
        "  map = fl.Map(location=[c.y, c.x], zoom_start=14)\n",
        "\n",
        "  line_off_neighborhoods(map)\n",
        "\n",
        "  mark_out_students(map)\n",
        "  mark_out_hospitals(map)\n",
        "  mark_out_childcare(map)\n",
        "  mark_out_schools(map)\n",
        "  mark_out_psychosocial_care(map)\n",
        "  mark_out_points_of_care(map)\n",
        "\n",
        "  return map"
      ],
      "metadata": {
        "id": "uKmhKwhz6CkL"
      },
      "execution_count": null,
      "outputs": []
    },
    {
      "cell_type": "markdown",
      "source": [
        "1. Utilizando `folium` é gerado um mapa interativo que inclui todos os [serviços públicos recolhidos](http://github.com/lemuel-manske/city-block/blob/main/data) e ponto de referência para a residência dos integrantes. O mapa possui divisão por bairros. Utilize o `Layer Control` no canto superior direito do mapa para interagir com as camadas."
      ],
      "metadata": {
        "id": "GlGbxNKJgyNd"
      }
    },
    {
      "cell_type": "code",
      "source": [
        "m = make_map(G)\n",
        "\n",
        "fl.LayerControl() \\\n",
        "  .add_to(m)\n",
        "\n",
        "m"
      ],
      "metadata": {
        "id": "Axq4nebcIh69"
      },
      "execution_count": null,
      "outputs": []
    },
    {
      "cell_type": "markdown",
      "source": [
        "2. Ainda é possível delimitar os serviços disponíveis num raio desejado. Como exemplo, partindo o ponto de referência `lemuel` geramos uma cobertura de 1, 5 e 10 km."
      ],
      "metadata": {
        "id": "Mx7z3pVYiGl9"
      }
    },
    {
      "cell_type": "code",
      "source": [
        "distances = [\n",
        "    1000,\n",
        "    5000,\n",
        "    10000\n",
        "]"
      ],
      "metadata": {
        "id": "m2t2XGpWke6X"
      },
      "execution_count": null,
      "outputs": []
    },
    {
      "cell_type": "code",
      "source": [
        "def get_services_in_distance(student_name: str, distances: list[int]):\n",
        "  student_node_id = get_student_node_id(student_name)\n",
        "\n",
        "  distance_subgraphs = {\n",
        "    # truncate computes the *network distance*\n",
        "    distance: ox.truncate.truncate_graph_dist(G, student_node_id, dist=distance, weight='length')\n",
        "\n",
        "    for distance in distances\n",
        "  }\n",
        "\n",
        "  data = []\n",
        "\n",
        "  for service in ALL_SERVICE_TAGS:\n",
        "    service_data = {\n",
        "      'student_name': student_name,\n",
        "      'service_name': service\n",
        "    }\n",
        "\n",
        "    service_node_ids = set(get_labeled_nodes(service).index)\n",
        "\n",
        "    for distance, G_sub in distance_subgraphs.items():\n",
        "      by_distance_count = len(service_node_ids.intersection(G_sub.nodes))\n",
        "\n",
        "      service_data[f'{distance}_m'] = by_distance_count\n",
        "\n",
        "    data.append(service_data)\n",
        "\n",
        "  return data"
      ],
      "metadata": {
        "id": "BL52XdEMkw9H"
      },
      "execution_count": null,
      "outputs": []
    },
    {
      "cell_type": "code",
      "source": [
        "df_nearby_services = pd.DataFrame(get_services_in_distance('lemuel', distances))\n",
        "\n",
        "df_nearby_services"
      ],
      "metadata": {
        "id": "ybYPaYi4fPTE"
      },
      "execution_count": null,
      "outputs": []
    },
    {
      "cell_type": "code",
      "source": [
        "lemuel = get_student_node_id('lemuel')\n",
        "\n",
        "colors = [ 'orange', 'blue', 'red' ]\n",
        "\n",
        "m = make_map(G)\n",
        "\n",
        "distances_desc = distances.copy()\n",
        "distances_desc.sort(reverse=True)\n",
        "\n",
        "radiuses = dict(zip(distances_desc, colors))\n",
        "\n",
        "for r in radiuses:\n",
        "  r_name = f'{r} metros'\n",
        "\n",
        "  group = fl.FeatureGroup(r_name)\n",
        "\n",
        "  fl.Circle(\n",
        "    location=get_node_location(G.nodes[lemuel]),\n",
        "    radius=r,\n",
        "    weight=0,\n",
        "    fill_opacity=0.25,\n",
        "    opacity=1,\n",
        "    fill_color=radiuses[r],\n",
        "    fill=False,\n",
        "    tooltip=r_name\n",
        "  ).add_to(group)\n",
        "\n",
        "  group.add_to(m)\n",
        "\n",
        "fl.LayerControl() \\\n",
        "  .add_to(m)\n",
        "\n",
        "m"
      ],
      "metadata": {
        "id": "0m507bjyapGa"
      },
      "execution_count": null,
      "outputs": []
    },
    {
      "cell_type": "markdown",
      "source": [
        "3. Análise de cobertura de serviços públicos por bairro. Vamos usar `boxplot` do `seaborn` para analisar dispersão e tendência e, juntamente com mapas de calor podemos visualizar a densidade por bairro"
      ],
      "metadata": {
        "id": "2VV8fIhL0yCx"
      }
    },
    {
      "cell_type": "code",
      "source": [
        "service_counts = count_services_by_neighborhood(G)"
      ],
      "metadata": {
        "id": "60ZnNvh0Chst"
      },
      "execution_count": null,
      "outputs": []
    },
    {
      "cell_type": "code",
      "source": [
        "all_service_counts_df = pd.concat([\n",
        "  df.set_index('neighborhood_name') for df in service_counts.values()\n",
        "], axis=1) \\\n",
        "  .fillna(0) \\\n",
        "  .astype(int)\n",
        "\n",
        "all_service_counts_df.columns = ALL_SERVICE_TAGS"
      ],
      "metadata": {
        "id": "5_SkT9gwDSFd"
      },
      "execution_count": null,
      "outputs": []
    },
    {
      "cell_type": "code",
      "source": [
        "long_df = all_service_counts_df \\\n",
        "  .reset_index() \\\n",
        "  .melt(\n",
        "    id_vars='neighborhood_name',\n",
        "    var_name='service',\n",
        "    value_name='count'\n",
        "  )\n",
        "\n",
        "service_order = sorted(long_df['service'].unique())\n",
        "\n",
        "plt.figure(figsize=(11, 6))\n",
        "\n",
        "# distribution\n",
        "sns.boxplot(\n",
        "  data=long_df,\n",
        "  x='count',\n",
        "  y='service',\n",
        "  order=service_order,\n",
        "  hue='service',\n",
        "  palette='pastel',\n",
        "  legend=False,\n",
        "  showcaps=True,\n",
        "  width=0.5,\n",
        "  fliersize=5\n",
        ")\n",
        "\n",
        "plt.title('Distribuição dos serviços por bairro')\n",
        "\n",
        "plt.xlabel('Quantidade')\n",
        "plt.ylabel('Tipo')\n",
        "\n",
        "plt.grid(axis='x', linestyle='dashed', alpha=0.5)\n",
        "\n",
        "plt.show()"
      ],
      "metadata": {
        "id": "-iw1EyKEhoSo"
      },
      "execution_count": null,
      "outputs": []
    },
    {
      "cell_type": "code",
      "source": [
        "def make_density_heat_map(target_service: str):\n",
        "  service_density = all_service_counts_df \\\n",
        "    .join(neighborhoods.set_index('name')[['hab']]) \\\n",
        "    .fillna(0)\n",
        "\n",
        "  for col in ALL_SERVICE_TAGS:\n",
        "    service_density[col + '_por_1000'] = (service_density[col] / service_density['hab']) * 1000\n",
        "\n",
        "  neighborhoods_density = neighborhoods.set_index('name') \\\n",
        "    .join(service_density, lsuffix='_geo', rsuffix='_dens')\n",
        "\n",
        "  fig, ax = plt.subplots(figsize=(14, 9))\n",
        "\n",
        "  neighborhoods_density.plot(\n",
        "    column=f'{target_service}_por_1000',\n",
        "    cmap='Reds',\n",
        "    linewidth=0.8,\n",
        "    edgecolor='black',\n",
        "    legend=True,\n",
        "    legend_kwds={'label': f'{target_service} por 1000 hab'},\n",
        "    ax=ax\n",
        "  )\n",
        "\n",
        "  plt.title(f'Densidade de {target_service} por bairro')\n",
        "  plt.axis('off')\n",
        "  plt.show()\n",
        "\n",
        "make_density_heat_map(HOSPITAL_TAG)"
      ],
      "metadata": {
        "id": "fAU40NBdxeGI"
      },
      "execution_count": null,
      "outputs": []
    },
    {
      "cell_type": "markdown",
      "source": [
        "3. Caminhos mais curtos"
      ],
      "metadata": {
        "id": "W1B3Q_1bExaz"
      }
    },
    {
      "cell_type": "code",
      "source": [
        "def make_path_map(student_name: str, target_service: str, graph: nx.MultiDiGraph = G):\n",
        "  origin_node = get_student_node_id(student_name)\n",
        "\n",
        "  dest_node = closest_service_from_student(student_name, target_service)\n",
        "\n",
        "  path = nx.shortest_path(graph, origin_node, dest_node, weight='length')\n",
        "\n",
        "  path_coords = [get_node_location(G.nodes[n]) for n in path]\n",
        "\n",
        "  m = make_map(G)\n",
        "\n",
        "  fl.PolyLine(\n",
        "    locations=path_coords,\n",
        "    color='red',\n",
        "    weight=5,\n",
        "    opacity=1,\n",
        "    tooltip=f'Caminho até {target_service}'\n",
        "  ).add_to(m)\n",
        "\n",
        "  return m\n",
        "\n",
        "make_path_map('lemuel', HOSPITAL_TAG)"
      ],
      "metadata": {
        "id": "7oDWTp00EuZT"
      },
      "execution_count": null,
      "outputs": []
    },
    {
      "cell_type": "markdown",
      "source": [
        "# Conclusão\n",
        "\n",
        "1. Quantidade baixa de hospitais\n",
        "2. Quantidade baixa de postos de saude\n",
        "3. Quantidade baixa de atendimento psicossocial"
      ],
      "metadata": {
        "id": "38DsmHM4tm3k"
      }
    }
  ]
}